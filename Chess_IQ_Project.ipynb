{
 "cells": [
  {
   "cell_type": "code",
   "execution_count": 2,
   "metadata": {},
   "outputs": [],
   "source": [
    "import pandas as pd\n",
    "from requests import get\n",
    "from sqlalchemy import create_engine\n",
    "\n"
   ]
  },
  {
   "cell_type": "code",
   "execution_count": null,
   "metadata": {},
   "outputs": [],
   "source": [
    "#Code ran to retreive data from HTML tables off the web, no need to run again as CSV files are already stored. \n",
    "\n",
    "url = \"https://brainstats.com/en/average-iq\"\n",
    "url2 = \"https://laendercode.net/en/3-letter-list.html\"\n",
    "\n",
    "header = {\n",
    "  \"User-Agent\": \"Mozilla/5.0 (X11; Linux x86_64) AppleWebKit/537.36 (KHTML, like Gecko) Chrome/50.0.2661.75 Safari/537.36\",\n",
    "  \"X-Requested-With\": \"XMLHttpRequest\"\n",
    "}\n",
    "\n",
    "html = get(url, headers=header).text\n",
    "html2 = get(url2,headers=header).text\n",
    "IQ_df = pd.read_html(html)[0]\n",
    "Country_df = pd.read_html(html2)[0]\n",
    "\n",
    "IQ_df.to_csv(\"Resources/IQ_by_country.csv\")\n",
    "Country_df.to_csv(\"Resources/Country_abbreviations.csv\")\n"
   ]
  },
  {
   "cell_type": "code",
   "execution_count": 25,
   "metadata": {},
   "outputs": [
    {
     "data": {
      "text/plain": [
       "RUS    25\n",
       "CHN     6\n",
       "UKR     5\n",
       "ISR     5\n",
       "USA     5\n",
       "GBR     5\n",
       "FRA     4\n",
       "ARM     4\n",
       "HUN     3\n",
       "UZB     2\n",
       "BIH     2\n",
       "GEO     2\n",
       "MDA     2\n",
       "PER     1\n",
       "KAZ     1\n",
       "BEL     1\n",
       "SVK     1\n",
       "EST     1\n",
       "BLR     1\n",
       "ESP     1\n",
       "SWE     1\n",
       "POL     1\n",
       "IND     1\n",
       "Name: Country, dtype: int64"
      ]
     },
     "execution_count": 25,
     "metadata": {},
     "output_type": "execute_result"
    }
   ],
   "source": [
    "Chess_df = pd.read_csv(\"Resources/fide_historical.csv\")\n",
    "Country_abb_df = pd.read_csv(\"Resources/Country_abbreviations.csv\")\n",
    "Country_IQ_df = pd.read_csv(\"Resources/IQ_by_country.csv\")\n",
    "IQ_by_country_df = pd.merge(Country_IQ_df,Country_abb_df,on = \"Country\")\n",
    "IQ_by_country_df.columns = [\"Rank\", \"Full Name\", \"IQ Average\", \"Country\"]\n",
    "Chess_players_df = pd.merge(IQ_by_country_df, Chess_df, on = \"Country\")\n",
    "Chess_players_complete_df = Chess_players_df.drop(columns=[\"Rank\",\"title\",\"games\",\"ranking_date\"])\n",
    "Chess_players_complete_df.sort_values(\"rank\")\n",
    "\n"
   ]
  },
  {
   "cell_type": "code",
   "execution_count": 23,
   "metadata": {},
   "outputs": [],
   "source": []
  },
  {
   "cell_type": "code",
   "execution_count": 4,
   "metadata": {},
   "outputs": [
    {
     "name": "stdout",
     "output_type": "stream",
     "text": [
      "CHN\n",
      "CHN\n",
      "CHN\n",
      "CHN\n",
      "CHN\n",
      "CHN\n",
      "GBR\n",
      "GBR\n",
      "GBR\n",
      "GBR\n",
      "GBR\n",
      "BEL\n",
      "EST\n",
      "POL\n",
      "SWE\n",
      "FRA\n",
      "FRA\n",
      "FRA\n",
      "FRA\n",
      "HUN\n",
      "HUN\n",
      "HUN\n",
      "ESP\n",
      "USA\n",
      "USA\n",
      "USA\n",
      "USA\n",
      "USA\n",
      "BLR\n",
      "RUS\n",
      "RUS\n",
      "RUS\n",
      "RUS\n",
      "RUS\n",
      "RUS\n",
      "RUS\n",
      "RUS\n",
      "RUS\n",
      "RUS\n",
      "RUS\n",
      "RUS\n",
      "RUS\n",
      "RUS\n",
      "RUS\n",
      "RUS\n",
      "RUS\n",
      "RUS\n",
      "RUS\n",
      "RUS\n",
      "RUS\n",
      "RUS\n",
      "RUS\n",
      "RUS\n",
      "RUS\n",
      "UKR\n",
      "UKR\n",
      "UKR\n",
      "UKR\n",
      "UKR\n",
      "MDA\n",
      "MDA\n",
      "SVK\n",
      "ISR\n",
      "ISR\n",
      "ISR\n",
      "ISR\n",
      "ISR\n",
      "ARM\n",
      "ARM\n",
      "ARM\n",
      "ARM\n",
      "GEO\n",
      "GEO\n",
      "KAZ\n",
      "BIH\n",
      "BIH\n",
      "UZB\n",
      "UZB\n",
      "PER\n",
      "IND\n"
     ]
    }
   ],
   "source": [
    "engine = create_engine('sqlite://', echo=False)\n",
    "Chess_players_complete_df.to_sql('Chess_db', con=engine)\n",
    "\n",
    "results = engine.execute(\"SELECT * FROM Chess_db\").fetchall()\n",
    "for row in results:\n",
    "    if row[3] == 'USA':\n",
    "        print(row)\n",
    "\n"
   ]
  }
 ],
 "metadata": {
  "kernelspec": {
   "display_name": "Python 3.9.12 ('base')",
   "language": "python",
   "name": "python3"
  },
  "language_info": {
   "codemirror_mode": {
    "name": "ipython",
    "version": 3
   },
   "file_extension": ".py",
   "mimetype": "text/x-python",
   "name": "python",
   "nbconvert_exporter": "python",
   "pygments_lexer": "ipython3",
   "version": "3.9.12"
  },
  "orig_nbformat": 4,
  "vscode": {
   "interpreter": {
    "hash": "6f5583cf1d9466b5c27e75c89cc6b383bed5736d6b16c51c8074d8690011a952"
   }
  }
 },
 "nbformat": 4,
 "nbformat_minor": 2
}
