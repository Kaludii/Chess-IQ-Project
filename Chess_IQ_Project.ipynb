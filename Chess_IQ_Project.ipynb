{
 "cells": [
  {
   "cell_type": "code",
   "execution_count": 5,
   "metadata": {},
   "outputs": [],
   "source": [
    "from pandas import read_html\n",
    "import pandas as pd\n",
    "from requests import get\n"
   ]
  },
  {
   "cell_type": "code",
   "execution_count": 2,
   "metadata": {},
   "outputs": [],
   "source": [
    "url = \"https://brainstats.com/en/average-iq\"\n",
    "\n",
    "header = {\n",
    "  \"User-Agent\": \"Mozilla/5.0 (X11; Linux x86_64) AppleWebKit/537.36 (KHTML, like Gecko) Chrome/50.0.2661.75 Safari/537.36\",\n",
    "  \"X-Requested-With\": \"XMLHttpRequest\"\n",
    "}\n",
    "\n",
    "html = get(url, headers=header).text\n",
    "\n",
    "IQ_df = read_html(html)[0]\n",
    "\n",
    "IQ_df.to_csv(\"IQ_by_countryy.csv\")"
   ]
  },
  {
   "cell_type": "code",
   "execution_count": 8,
   "metadata": {},
   "outputs": [],
   "source": [
    "# File Location\n",
    "fide_historical_clean = \"Resources/fide_historical_updated_clean.csv\""
   ]
  },
  {
   "cell_type": "code",
   "execution_count": 9,
   "metadata": {},
   "outputs": [
    {
     "data": {
      "text/html": [
       "<div>\n",
       "<style scoped>\n",
       "    .dataframe tbody tr th:only-of-type {\n",
       "        vertical-align: middle;\n",
       "    }\n",
       "\n",
       "    .dataframe tbody tr th {\n",
       "        vertical-align: top;\n",
       "    }\n",
       "\n",
       "    .dataframe thead th {\n",
       "        text-align: right;\n",
       "    }\n",
       "</style>\n",
       "<table border=\"1\" class=\"dataframe\">\n",
       "  <thead>\n",
       "    <tr style=\"text-align: right;\">\n",
       "      <th></th>\n",
       "      <th>ranking_date</th>\n",
       "      <th>rank</th>\n",
       "      <th>name</th>\n",
       "      <th>title</th>\n",
       "      <th>country</th>\n",
       "      <th>rating</th>\n",
       "      <th>games</th>\n",
       "      <th>birth_year</th>\n",
       "    </tr>\n",
       "  </thead>\n",
       "  <tbody>\n",
       "    <tr>\n",
       "      <th>0</th>\n",
       "      <td>27-07-00</td>\n",
       "      <td>1</td>\n",
       "      <td>Kasparov, Garry</td>\n",
       "      <td>g</td>\n",
       "      <td>RUS</td>\n",
       "      <td>2849</td>\n",
       "      <td>35</td>\n",
       "      <td>1963</td>\n",
       "    </tr>\n",
       "    <tr>\n",
       "      <th>1</th>\n",
       "      <td>27-07-00</td>\n",
       "      <td>2</td>\n",
       "      <td>Kramnik, Vladimir</td>\n",
       "      <td>g</td>\n",
       "      <td>RUS</td>\n",
       "      <td>2770</td>\n",
       "      <td>23</td>\n",
       "      <td>1975</td>\n",
       "    </tr>\n",
       "    <tr>\n",
       "      <th>2</th>\n",
       "      <td>27-07-00</td>\n",
       "      <td>3</td>\n",
       "      <td>Anand, Viswanathan</td>\n",
       "      <td>g</td>\n",
       "      <td>IND</td>\n",
       "      <td>2762</td>\n",
       "      <td>23</td>\n",
       "      <td>1969</td>\n",
       "    </tr>\n",
       "    <tr>\n",
       "      <th>3</th>\n",
       "      <td>27-07-00</td>\n",
       "      <td>4</td>\n",
       "      <td>Morozevich, Alexander</td>\n",
       "      <td>g</td>\n",
       "      <td>RUS</td>\n",
       "      <td>2756</td>\n",
       "      <td>28</td>\n",
       "      <td>1977</td>\n",
       "    </tr>\n",
       "    <tr>\n",
       "      <th>4</th>\n",
       "      <td>27-07-00</td>\n",
       "      <td>5</td>\n",
       "      <td>Adams, Michael</td>\n",
       "      <td>g</td>\n",
       "      <td>ENG</td>\n",
       "      <td>2755</td>\n",
       "      <td>38</td>\n",
       "      <td>1971</td>\n",
       "    </tr>\n",
       "  </tbody>\n",
       "</table>\n",
       "</div>"
      ],
      "text/plain": [
       "  ranking_date  rank                   name title country  rating  games  \\\n",
       "0     27-07-00     1        Kasparov, Garry     g     RUS    2849     35   \n",
       "1     27-07-00     2      Kramnik, Vladimir     g     RUS    2770     23   \n",
       "2     27-07-00     3     Anand, Viswanathan     g     IND    2762     23   \n",
       "3     27-07-00     4  Morozevich, Alexander     g     RUS    2756     28   \n",
       "4     27-07-00     5         Adams, Michael     g     ENG    2755     38   \n",
       "\n",
       "   birth_year  \n",
       "0        1963  \n",
       "1        1975  \n",
       "2        1969  \n",
       "3        1977  \n",
       "4        1971  "
      ]
     },
     "execution_count": 9,
     "metadata": {},
     "output_type": "execute_result"
    }
   ],
   "source": [
    "# Read Poetry Analysis Data File As A Pandas Dataframe\n",
    "fide_historical_clean_df = pd.read_csv(fide_historical_clean)\n",
    "fide_historical_clean_df.head(5)"
   ]
  },
  {
   "cell_type": "code",
   "execution_count": null,
   "metadata": {},
   "outputs": [],
   "source": []
  }
 ],
 "metadata": {
  "kernelspec": {
   "display_name": "Python 3.8.13 ('PythonData38')",
   "language": "python",
   "name": "python3"
  },
  "language_info": {
   "codemirror_mode": {
    "name": "ipython",
    "version": 3
   },
   "file_extension": ".py",
   "mimetype": "text/x-python",
   "name": "python",
   "nbconvert_exporter": "python",
   "pygments_lexer": "ipython3",
   "version": "3.8.13"
  },
  "orig_nbformat": 4,
  "vscode": {
   "interpreter": {
    "hash": "a0745a12c7e3f9fcbce0e510fec5e47abeba3a9cce8462bc07ae90d121dabf2d"
   }
  }
 },
 "nbformat": 4,
 "nbformat_minor": 2
}
